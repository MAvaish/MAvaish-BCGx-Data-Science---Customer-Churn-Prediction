{
 "cells": [
  {
   "cell_type": "markdown",
   "metadata": {},
   "source": [
    "✅ Loading the data"
   ]
  },
  {
   "cell_type": "code",
   "execution_count": null,
   "metadata": {},
   "outputs": [],
   "source": [
    "import pandas as pd"
   ]
  },
  {
   "cell_type": "code",
   "execution_count": 3,
   "metadata": {},
   "outputs": [
    {
     "name": "stdout",
     "output_type": "stream",
     "text": [
      "                                 id  price_date  price_off_peak_var  \\\n",
      "0  038af19179925da21a25619c5a24b745  2015-01-01            0.151367   \n",
      "1  038af19179925da21a25619c5a24b745  2015-02-01            0.151367   \n",
      "2  038af19179925da21a25619c5a24b745  2015-03-01            0.151367   \n",
      "3  038af19179925da21a25619c5a24b745  2015-04-01            0.149626   \n",
      "4  038af19179925da21a25619c5a24b745  2015-05-01            0.149626   \n",
      "\n",
      "   price_peak_var  price_mid_peak_var  price_off_peak_fix  price_peak_fix  \\\n",
      "0             0.0                 0.0           44.266931             0.0   \n",
      "1             0.0                 0.0           44.266931             0.0   \n",
      "2             0.0                 0.0           44.266931             0.0   \n",
      "3             0.0                 0.0           44.266931             0.0   \n",
      "4             0.0                 0.0           44.266931             0.0   \n",
      "\n",
      "   price_mid_peak_fix  \n",
      "0                 0.0  \n",
      "1                 0.0  \n",
      "2                 0.0  \n",
      "3                 0.0  \n",
      "4                 0.0  \n",
      "                                 id                     channel_sales  \\\n",
      "0  24011ae4ebbe3035111d65fa7c15bc57  foosdfpfkusacimwkcsosbicdxkicaua   \n",
      "1  d29c2c54acc38ff3c0614d0a653813dd                           MISSING   \n",
      "2  764c75f661154dac3a6c254cd082ea7d  foosdfpfkusacimwkcsosbicdxkicaua   \n",
      "3  bba03439a292a1e166f80264c16191cb  lmkebamcaaclubfxadlmueccxoimlema   \n",
      "4  149d57cf92fc41cf94415803a877cb4b                           MISSING   \n",
      "\n",
      "   cons_12m  cons_gas_12m  cons_last_month  date_activ    date_end  \\\n",
      "0         0         54946                0  2013-06-15  2016-06-15   \n",
      "1      4660             0                0  2009-08-21  2016-08-30   \n",
      "2       544             0                0  2010-04-16  2016-04-16   \n",
      "3      1584             0                0  2010-03-30  2016-03-30   \n",
      "4      4425             0              526  2010-01-13  2016-03-07   \n",
      "\n",
      "  date_modif_prod date_renewal  forecast_cons_12m  ...  has_gas  imp_cons  \\\n",
      "0      2015-11-01   2015-06-23               0.00  ...        t      0.00   \n",
      "1      2009-08-21   2015-08-31             189.95  ...        f      0.00   \n",
      "2      2010-04-16   2015-04-17              47.96  ...        f      0.00   \n",
      "3      2010-03-30   2015-03-31             240.04  ...        f      0.00   \n",
      "4      2010-01-13   2015-03-09             445.75  ...        f     52.32   \n",
      "\n",
      "   margin_gross_pow_ele  margin_net_pow_ele  nb_prod_act  net_margin  \\\n",
      "0                 25.44               25.44            2      678.99   \n",
      "1                 16.38               16.38            1       18.89   \n",
      "2                 28.60               28.60            1        6.60   \n",
      "3                 30.22               30.22            1       25.46   \n",
      "4                 44.91               44.91            1       47.98   \n",
      "\n",
      "  num_years_antig                         origin_up  pow_max  churn  \n",
      "0               3  lxidpiddsbxsbosboudacockeimpuepw   43.648      1  \n",
      "1               6  kamkkxfxxuwbdslkwifmmcsiusiuosws   13.800      0  \n",
      "2               6  kamkkxfxxuwbdslkwifmmcsiusiuosws   13.856      0  \n",
      "3               6  kamkkxfxxuwbdslkwifmmcsiusiuosws   13.200      0  \n",
      "4               6  kamkkxfxxuwbdslkwifmmcsiusiuosws   19.800      0  \n",
      "\n",
      "[5 rows x 26 columns]\n"
     ]
    }
   ],
   "source": [
    "price_df = pd.read_csv(r\"C:\\Users\\91739\\Downloads\\price_data (1).csv\")\n",
    "client_df = pd.read_csv(r\"C:\\Users\\91739\\Downloads\\client_data (1).csv\")\n",
    "\n",
    "print(price_df.head(5))\n",
    "print(client_df.head(5))"
   ]
  },
  {
   "cell_type": "markdown",
   "metadata": {},
   "source": [
    "✅ Checking column data types"
   ]
  },
  {
   "cell_type": "code",
   "execution_count": 4,
   "metadata": {},
   "outputs": [
    {
     "name": "stdout",
     "output_type": "stream",
     "text": [
      "\n",
      "Data Types in Price Data:\n",
      "id                     object\n",
      "price_date             object\n",
      "price_off_peak_var    float64\n",
      "price_peak_var        float64\n",
      "price_mid_peak_var    float64\n",
      "price_off_peak_fix    float64\n",
      "price_peak_fix        float64\n",
      "price_mid_peak_fix    float64\n",
      "dtype: object\n",
      "\n",
      "Data Types in Client Data:\n",
      "id                                 object\n",
      "channel_sales                      object\n",
      "cons_12m                            int64\n",
      "cons_gas_12m                        int64\n",
      "cons_last_month                     int64\n",
      "date_activ                         object\n",
      "date_end                           object\n",
      "date_modif_prod                    object\n",
      "date_renewal                       object\n",
      "forecast_cons_12m                 float64\n",
      "forecast_cons_year                  int64\n",
      "forecast_discount_energy          float64\n",
      "forecast_meter_rent_12m           float64\n",
      "forecast_price_energy_off_peak    float64\n",
      "forecast_price_energy_peak        float64\n",
      "forecast_price_pow_off_peak       float64\n",
      "has_gas                            object\n",
      "imp_cons                          float64\n",
      "margin_gross_pow_ele              float64\n",
      "margin_net_pow_ele                float64\n",
      "nb_prod_act                         int64\n",
      "net_margin                        float64\n",
      "num_years_antig                     int64\n",
      "origin_up                          object\n",
      "pow_max                           float64\n",
      "churn                               int64\n",
      "dtype: object\n"
     ]
    }
   ],
   "source": [
    "print(\"\\nData Types in Price Data:\")\n",
    "print(price_df.dtypes)\n",
    "\n",
    "\n",
    "print(\"\\nData Types in Client Data:\")\n",
    "print(client_df.dtypes)\n"
   ]
  },
  {
   "cell_type": "markdown",
   "metadata": {},
   "source": [
    "✅ Identifying missing values"
   ]
  },
  {
   "cell_type": "code",
   "execution_count": 5,
   "metadata": {},
   "outputs": [
    {
     "name": "stdout",
     "output_type": "stream",
     "text": [
      "\n",
      "Missing Values in Price Data:\n",
      "id                    0\n",
      "price_date            0\n",
      "price_off_peak_var    0\n",
      "price_peak_var        0\n",
      "price_mid_peak_var    0\n",
      "price_off_peak_fix    0\n",
      "price_peak_fix        0\n",
      "price_mid_peak_fix    0\n",
      "dtype: int64\n",
      "\n",
      "Missing Values in Client Data:\n",
      "id                                0\n",
      "channel_sales                     0\n",
      "cons_12m                          0\n",
      "cons_gas_12m                      0\n",
      "cons_last_month                   0\n",
      "date_activ                        0\n",
      "date_end                          0\n",
      "date_modif_prod                   0\n",
      "date_renewal                      0\n",
      "forecast_cons_12m                 0\n",
      "forecast_cons_year                0\n",
      "forecast_discount_energy          0\n",
      "forecast_meter_rent_12m           0\n",
      "forecast_price_energy_off_peak    0\n",
      "forecast_price_energy_peak        0\n",
      "forecast_price_pow_off_peak       0\n",
      "has_gas                           0\n",
      "imp_cons                          0\n",
      "margin_gross_pow_ele              0\n",
      "margin_net_pow_ele                0\n",
      "nb_prod_act                       0\n",
      "net_margin                        0\n",
      "num_years_antig                   0\n",
      "origin_up                         0\n",
      "pow_max                           0\n",
      "churn                             0\n",
      "dtype: int64\n"
     ]
    }
   ],
   "source": [
    "print(\"\\nMissing Values in Price Data:\")\n",
    "print(price_df.isnull().sum())\n",
    "\n",
    "print(\"\\nMissing Values in Client Data:\")\n",
    "print(client_df.isnull().sum())\n"
   ]
  },
  {
   "cell_type": "markdown",
   "metadata": {},
   "source": [
    "✅ Counting unique values in categorical columns"
   ]
  },
  {
   "cell_type": "code",
   "execution_count": 6,
   "metadata": {},
   "outputs": [
    {
     "name": "stdout",
     "output_type": "stream",
     "text": [
      "\n",
      "Unique Values in Categorical Columns (Price Data):\n",
      "id: 16096 unique values\n",
      "price_date: 12 unique values\n",
      "\n",
      "Unique Values in Categorical Columns (Client Data):\n",
      "id: 14606 unique values\n",
      "channel_sales: 8 unique values\n",
      "date_activ: 1796 unique values\n",
      "date_end: 368 unique values\n",
      "date_modif_prod: 2129 unique values\n",
      "date_renewal: 386 unique values\n",
      "has_gas: 2 unique values\n",
      "origin_up: 6 unique values\n"
     ]
    }
   ],
   "source": [
    "cat_columns_price = price_df.select_dtypes(include=['object']).columns\n",
    "cat_columns_client = client_df.select_dtypes(include=['object']).columns\n",
    "\n",
    "print(\"\\nUnique Values in Categorical Columns (Price Data):\")\n",
    "for col in cat_columns_price:\n",
    "    print(f\"{col}: {price_df[col].nunique()} unique values\")\n",
    "\n",
    "print(\"\\nUnique Values in Categorical Columns (Client Data):\")\n",
    "for col in cat_columns_client:\n",
    "    print(f\"{col}: {client_df[col].nunique()} unique values\")\n"
   ]
  },
  {
   "cell_type": "code",
   "execution_count": null,
   "metadata": {},
   "outputs": [],
   "source": []
  }
 ],
 "metadata": {
  "kernelspec": {
   "display_name": "Python 3",
   "language": "python",
   "name": "python3"
  },
  "language_info": {
   "codemirror_mode": {
    "name": "ipython",
    "version": 3
   },
   "file_extension": ".py",
   "mimetype": "text/x-python",
   "name": "python",
   "nbconvert_exporter": "python",
   "pygments_lexer": "ipython3",
   "version": "3.13.1"
  }
 },
 "nbformat": 4,
 "nbformat_minor": 2
}
